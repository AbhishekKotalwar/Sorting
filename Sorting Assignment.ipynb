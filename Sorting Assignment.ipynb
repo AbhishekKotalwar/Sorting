{
 "cells": [
  {
   "cell_type": "markdown",
   "metadata": {},
   "source": [
    "Problem 1.Given an array of n numbers, give an algorithm which gives the element appearing maximum\n",
    "number of times?"
   ]
  },
  {
   "cell_type": "code",
   "execution_count": 23,
   "metadata": {},
   "outputs": [],
   "source": [
    "def find_max_occurrence(arr):\n",
    "    \"\"\"\n",
    "    Finds the element with the maximum occurrences in an array.\n",
    "\n",
    "    Args:\n",
    "        arr: The input array.\n",
    "\n",
    "    Returns:\n",
    "        The element with the maximum occurrences.\n",
    "    \"\"\"\n",
    "\n",
    "    count_dict = {}\n",
    "    max_count = 0\n",
    "    max_element = None\n",
    "\n",
    "    for num in arr:\n",
    "        count_dict[num] = count_dict.get(num, 0) + 1\n",
    "        if count_dict[num] > max_count:\n",
    "            max_count = count_dict[num]\n",
    "            max_element = num\n",
    "\n",
    "    return max_element"
   ]
  },
  {
   "cell_type": "markdown",
   "metadata": {},
   "source": [
    "Problem 2 : We are given a list of n-1 integers and these integers are in the range of 1 to n . There are no\n",
    "duplicates in the list. One of the integers is missing in the list. Give an algorithm to find that element Ex:\n",
    "[1,2,4,6,3,7,8] 5 is the missing num."
   ]
  },
  {
   "cell_type": "code",
   "execution_count": 24,
   "metadata": {},
   "outputs": [],
   "source": [
    "def find_missing_number(arr):\n",
    "    \"\"\"\n",
    "    Finds the missing number in an array of n-1 integers in the range 1 to n.\n",
    "\n",
    "    Args:\n",
    "        arr: The input array.\n",
    "\n",
    "    Returns:\n",
    "        The missing number.\n",
    "    \"\"\"\n",
    "\n",
    "    n = len(arr) + 1\n",
    "    expected_sum = n * (n + 1) // 2\n",
    "    actual_sum = sum(arr)\n",
    "\n",
    "    return expected_sum - actual_sum"
   ]
  },
  {
   "cell_type": "markdown",
   "metadata": {},
   "source": [
    "Problem 3 : Given an array of n positive numbers. All numbers occurs even number of times except 1 which\n",
    "occurs odd number of times. Find that number in O(n) time and O(1) space. Ex: [1,2,3,2,3,1,3]. 3 is repeats odd\n",
    "times."
   ]
  },
  {
   "cell_type": "code",
   "execution_count": 25,
   "metadata": {},
   "outputs": [],
   "source": [
    "def find_odd_occurrence(arr):\n",
    "    \"\"\"\n",
    "    Finds the number that occurs an odd number of times in an array.\n",
    "\n",
    "    Args:\n",
    "        arr: The input array.\n",
    "\n",
    "    Returns:\n",
    "        The number that occurs an odd number of times.\n",
    "    \"\"\"\n",
    "\n",
    "    result = 0\n",
    "    for num in arr:\n",
    "        result ^= num\n",
    "\n",
    "    return result"
   ]
  },
  {
   "cell_type": "markdown",
   "metadata": {},
   "source": [
    "Problem 4 : Given an array of n elements. Find two elements in the array such that their sum is equal to given\n",
    "element K."
   ]
  },
  {
   "cell_type": "code",
   "execution_count": 26,
   "metadata": {},
   "outputs": [],
   "source": [
    "def find_pair_with_sum(arr, K):\n",
    "    \"\"\"\n",
    "    Finds a pair of elements in the array that sums to K.\n",
    "\n",
    "    Args:\n",
    "        arr: The input array.\n",
    "        K: The target sum.\n",
    "\n",
    "    Returns:\n",
    "        A tuple of the two elements if found, otherwise None.\n",
    "    \"\"\"\n",
    "\n",
    "    seen = set()\n",
    "    for num in arr:\n",
    "        complement = K - num\n",
    "        if complement in seen:\n",
    "            return (complement, num)\n",
    "        seen.add(num)\n",
    "\n",
    "    return None"
   ]
  },
  {
   "cell_type": "markdown",
   "metadata": {},
   "source": [
    "Problem 5 : Given an array of both positive and negative numbers, find two numbers such that their sum is\n",
    "closest to 0. Ex: [ 1 ,60 ,-10, 70, -80,85]. Ans : -80,85."
   ]
  },
  {
   "cell_type": "code",
   "execution_count": 27,
   "metadata": {},
   "outputs": [],
   "source": [
    "def find_closest_to_zero(arr):\n",
    "    \"\"\"\n",
    "    Finds two numbers in the array whose sum is closest to zero.\n",
    "\n",
    "    Args:\n",
    "        arr: The input array.\n",
    "\n",
    "    Returns:\n",
    "        A tuple of the two numbers.\n",
    "    \"\"\"\n",
    "\n",
    "    arr.sort()\n",
    "    left, right = 0, len(arr) - 1\n",
    "    min_sum = float('inf')\n",
    "    closest_pair = None\n",
    "\n",
    "    while left < right:\n",
    "        current_sum = arr[left] + arr[right]\n",
    "        if abs(current_sum) < abs(min_sum):\n",
    "            min_sum = current_sum\n",
    "            closest_pair = (arr[left], arr[right])\n",
    "\n",
    "        if current_sum < 0:\n",
    "            left += 1\n",
    "        else:\n",
    "            right -= 1\n",
    "\n",
    "    return closest_pair"
   ]
  },
  {
   "cell_type": "markdown",
   "metadata": {},
   "source": [
    "Problem 6 : Given an array of n elements . Find three elements such that their sum is equal to the given\n",
    "number."
   ]
  },
  {
   "cell_type": "code",
   "execution_count": 28,
   "metadata": {},
   "outputs": [],
   "source": [
    "def find_triplet(arr, target):\n",
    "    \"\"\"\n",
    "    Finds three elements in the array that sum to the target value.\n",
    "\n",
    "    Args:\n",
    "        arr: The input array.\n",
    "        target: The target sum.\n",
    "\n",
    "    Returns:\n",
    "        A tuple of three elements if found, otherwise None.\n",
    "    \"\"\"\n",
    "\n",
    "    arr.sort()\n",
    "    n = len(arr)\n",
    "\n",
    "    for i in range(n - 2):\n",
    "        left = i + 1\n",
    "        right = n - 1\n",
    "\n",
    "        while left < right:\n",
    "            total = arr[i] + arr[left] + arr[right]\n",
    "            if total == target:\n",
    "                return arr[i], arr[left], arr[right]\n",
    "            elif total < target:\n",
    "                left += 1\n",
    "            else:\n",
    "                right -= 1\n",
    "\n",
    "    return None"
   ]
  },
  {
   "cell_type": "markdown",
   "metadata": {},
   "source": [
    "Problem 7 : Given an array of n elements . Find three elements i, j, k in the array such that\n",
    "i * i + j * j = k*k."
   ]
  },
  {
   "cell_type": "code",
   "execution_count": 29,
   "metadata": {},
   "outputs": [],
   "source": [
    "def find_pythagorean_triplet(arr):\n",
    "    \"\"\"\n",
    "    Finds a Pythagorean triplet in the array.\n",
    "\n",
    "    Args:\n",
    "        arr: The input array.\n",
    "\n",
    "    Returns:\n",
    "        A tuple of three elements forming a Pythagorean triplet, or None if not found.\n",
    "    \"\"\"\n",
    "\n",
    "    n = len(arr)\n",
    "    arr.sort()\n",
    "\n",
    "    for i in range(n - 2):\n",
    "        a = arr[i] * arr[i]\n",
    "        left = i + 1\n",
    "        right = n - 1\n",
    "\n",
    "        while left < right:\n",
    "            b = arr[left] * arr[left]\n",
    "            c = arr[right] * arr[right]\n",
    "\n",
    "            if a + b == c:\n",
    "                return arr[i], arr[left], arr[right]\n",
    "            elif a + b < c:\n",
    "                left += 1\n",
    "            else:\n",
    "                right -= 1\n",
    "\n",
    "    return None"
   ]
  },
  {
   "cell_type": "markdown",
   "metadata": {},
   "source": [
    "Problem 8 : An element is a majority if it appears more than n/2 times. Give an algorithm takes an array of n\n",
    "element as argument and identifies a majority (if it exists)."
   ]
  },
  {
   "cell_type": "code",
   "execution_count": 32,
   "metadata": {},
   "outputs": [],
   "source": [
    "def majority_element(nums):\n",
    "    \"\"\"\n",
    "    Finds the majority element in the array.\n",
    "\n",
    "    Args:\n",
    "        nums: The input array.\n",
    "\n",
    "    Returns:\n",
    "        The majority element if it exists, otherwise None.\n",
    "    \"\"\"\n",
    "\n",
    "    candidate = None\n",
    "    count = 0\n",
    "\n",
    "    for num in nums:\n",
    "        if count == 0:\n",
    "            candidate = num\n",
    "            count = 1\n",
    "        elif num == candidate:\n",
    "            count += 1\n",
    "        else:\n",
    "            count -= 1\n",
    "\n",
    "    if count > 0:\n",
    "        return candidate\n",
    "    else:\n",
    "        return None"
   ]
  },
  {
   "cell_type": "markdown",
   "metadata": {},
   "source": [
    "Problem 9 : Given n × n matrix, and in each row all 1’s are followed by 0’s. Find the row with the maximum\n",
    "number of 0’s."
   ]
  },
  {
   "cell_type": "code",
   "execution_count": 33,
   "metadata": {},
   "outputs": [],
   "source": [
    "def find_row_with_max_zeros(matrix):\n",
    "    \"\"\"\n",
    "    Finds the row with the maximum number of zeros in a matrix.\n",
    "\n",
    "    Args:\n",
    "        matrix: The input matrix.\n",
    "\n",
    "    Returns:\n",
    "        The index of the row with the maximum number of zeros.\n",
    "    \"\"\"\n",
    "\n",
    "    n = len(matrix)\n",
    "    m = len(matrix[0])\n",
    "\n",
    "    max_zeros = 0\n",
    "    max_row = -1\n",
    "\n",
    "    for i in range(n):\n",
    "        j = 0\n",
    "        while j < m and matrix[i][j] == 1:\n",
    "            j += 1\n",
    "\n",
    "        zeros_in_row = m - j\n",
    "        if zeros_in_row > max_zeros:\n",
    "            max_zeros = zeros_in_row\n",
    "            max_row = i\n",
    "\n",
    "    return max_row"
   ]
  },
  {
   "cell_type": "markdown",
   "metadata": {},
   "source": [
    "Problem 10 : Sort an array of 0’s, 1’s and 2’s [or R’s, G’s and B’s]: Given an array A[] consisting of 0’s, 1’s and\n",
    "2’s, give an algorithm for sorting A[].The algorithm should put all 0’s first, then all 1’s and finally all 2’s at the\n",
    "end. Example Input = {0,1,1,0,1,2,1,2,0,0,0,1}, Output = {0,0,0,0,0,1,1,1,1,1,2,2}"
   ]
  },
  {
   "cell_type": "code",
   "execution_count": 34,
   "metadata": {},
   "outputs": [],
   "source": [
    "def sort_012(arr):\n",
    "    \"\"\"\n",
    "    Sorts an array of 0s, 1s, and 2s in-place.\n",
    "\n",
    "    Args:\n",
    "        arr: The input array.\n",
    "    \"\"\"\n",
    "\n",
    "    low, mid, high = 0, 0, len(arr) - 1\n",
    "\n",
    "    while mid <= high:\n",
    "        if arr[mid] == 0:\n",
    "            arr[low], arr[mid] = arr[mid], arr[low]\n",
    "            low += 1\n",
    "            mid += 1\n",
    "        elif arr[mid] == 1:\n",
    "            mid += 1\n",
    "        else:\n",
    "            arr[mid], arr[high] = arr[high], arr[mid]\n",
    "            high -= 1"
   ]
  }
 ],
 "metadata": {
  "kernelspec": {
   "display_name": "Python 3",
   "language": "python",
   "name": "python3"
  },
  "language_info": {
   "codemirror_mode": {
    "name": "ipython",
    "version": 3
   },
   "file_extension": ".py",
   "mimetype": "text/x-python",
   "name": "python",
   "nbconvert_exporter": "python",
   "pygments_lexer": "ipython3",
   "version": "3.12.2"
  }
 },
 "nbformat": 4,
 "nbformat_minor": 2
}
